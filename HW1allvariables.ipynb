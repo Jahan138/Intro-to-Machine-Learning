{
  "nbformat": 4,
  "nbformat_minor": 0,
  "metadata": {
    "colab": {
      "provenance": [],
      "authorship_tag": "ABX9TyNqHmOrOsuaEu8nVRFCqDJ4",
      "include_colab_link": true
    },
    "kernelspec": {
      "name": "python3",
      "display_name": "Python 3"
    },
    "language_info": {
      "name": "python"
    }
  },
  "cells": [
    {
      "cell_type": "markdown",
      "metadata": {
        "id": "view-in-github",
        "colab_type": "text"
      },
      "source": [
        "<a href=\"https://colab.research.google.com/github/jahanshukhy/Intro-to-Machine-Learning/blob/main/HW1allvariables.ipynb\" target=\"_parent\"><img src=\"https://colab.research.google.com/assets/colab-badge.svg\" alt=\"Open In Colab\"/></a>"
      ]
    },
    {
      "cell_type": "code",
      "execution_count": 2,
      "metadata": {
        "colab": {
          "base_uri": "https://localhost:8080/"
        },
        "id": "NMS-Gf68a0-T",
        "outputId": "8512dac3-e390-4f4b-ab83-42a16c0d75c9"
      },
      "outputs": [
        {
          "output_type": "stream",
          "name": "stdout",
          "text": [
            "Mounted at /content/drive\n"
          ]
        }
      ],
      "source": [
        "import numpy as np\n",
        "import pandas as pd\n",
        "import matplotlib.pyplot as plt\n",
        "from google.colab import drive\n",
        "drive.mount('/content/drive')"
      ]
    },
    {
      "cell_type": "code",
      "source": [
        "# import D3.csv from the Drive\n",
        "file_path = '/content/drive/My Drive/ML/HW1/D3.csv'\n",
        "sample = pd.DataFrame(pd.read_csv(file_path))\n",
        "sample.head()"
      ],
      "metadata": {
        "id": "3FdEfpKCcEoP",
        "colab": {
          "base_uri": "https://localhost:8080/",
          "height": 206
        },
        "outputId": "50c6f87b-2509-430b-8757-afdb08dda644"
      },
      "execution_count": 3,
      "outputs": [
        {
          "output_type": "execute_result",
          "data": {
            "text/plain": [
              "         X1        X2        X3         Y\n",
              "0  0.000000  3.440000  0.440000  4.387545\n",
              "1  0.040404  0.134949  0.888485  2.679650\n",
              "2  0.080808  0.829899  1.336970  2.968490\n",
              "3  0.121212  1.524848  1.785455  3.254065\n",
              "4  0.161616  2.219798  2.233939  3.536375"
            ],
            "text/html": [
              "\n",
              "  <div id=\"df-08b5acf7-fc9f-4be2-9f0d-434ad3761762\" class=\"colab-df-container\">\n",
              "    <div>\n",
              "<style scoped>\n",
              "    .dataframe tbody tr th:only-of-type {\n",
              "        vertical-align: middle;\n",
              "    }\n",
              "\n",
              "    .dataframe tbody tr th {\n",
              "        vertical-align: top;\n",
              "    }\n",
              "\n",
              "    .dataframe thead th {\n",
              "        text-align: right;\n",
              "    }\n",
              "</style>\n",
              "<table border=\"1\" class=\"dataframe\">\n",
              "  <thead>\n",
              "    <tr style=\"text-align: right;\">\n",
              "      <th></th>\n",
              "      <th>X1</th>\n",
              "      <th>X2</th>\n",
              "      <th>X3</th>\n",
              "      <th>Y</th>\n",
              "    </tr>\n",
              "  </thead>\n",
              "  <tbody>\n",
              "    <tr>\n",
              "      <th>0</th>\n",
              "      <td>0.000000</td>\n",
              "      <td>3.440000</td>\n",
              "      <td>0.440000</td>\n",
              "      <td>4.387545</td>\n",
              "    </tr>\n",
              "    <tr>\n",
              "      <th>1</th>\n",
              "      <td>0.040404</td>\n",
              "      <td>0.134949</td>\n",
              "      <td>0.888485</td>\n",
              "      <td>2.679650</td>\n",
              "    </tr>\n",
              "    <tr>\n",
              "      <th>2</th>\n",
              "      <td>0.080808</td>\n",
              "      <td>0.829899</td>\n",
              "      <td>1.336970</td>\n",
              "      <td>2.968490</td>\n",
              "    </tr>\n",
              "    <tr>\n",
              "      <th>3</th>\n",
              "      <td>0.121212</td>\n",
              "      <td>1.524848</td>\n",
              "      <td>1.785455</td>\n",
              "      <td>3.254065</td>\n",
              "    </tr>\n",
              "    <tr>\n",
              "      <th>4</th>\n",
              "      <td>0.161616</td>\n",
              "      <td>2.219798</td>\n",
              "      <td>2.233939</td>\n",
              "      <td>3.536375</td>\n",
              "    </tr>\n",
              "  </tbody>\n",
              "</table>\n",
              "</div>\n",
              "    <div class=\"colab-df-buttons\">\n",
              "\n",
              "  <div class=\"colab-df-container\">\n",
              "    <button class=\"colab-df-convert\" onclick=\"convertToInteractive('df-08b5acf7-fc9f-4be2-9f0d-434ad3761762')\"\n",
              "            title=\"Convert this dataframe to an interactive table.\"\n",
              "            style=\"display:none;\">\n",
              "\n",
              "  <svg xmlns=\"http://www.w3.org/2000/svg\" height=\"24px\" viewBox=\"0 -960 960 960\">\n",
              "    <path d=\"M120-120v-720h720v720H120Zm60-500h600v-160H180v160Zm220 220h160v-160H400v160Zm0 220h160v-160H400v160ZM180-400h160v-160H180v160Zm440 0h160v-160H620v160ZM180-180h160v-160H180v160Zm440 0h160v-160H620v160Z\"/>\n",
              "  </svg>\n",
              "    </button>\n",
              "\n",
              "  <style>\n",
              "    .colab-df-container {\n",
              "      display:flex;\n",
              "      gap: 12px;\n",
              "    }\n",
              "\n",
              "    .colab-df-convert {\n",
              "      background-color: #E8F0FE;\n",
              "      border: none;\n",
              "      border-radius: 50%;\n",
              "      cursor: pointer;\n",
              "      display: none;\n",
              "      fill: #1967D2;\n",
              "      height: 32px;\n",
              "      padding: 0 0 0 0;\n",
              "      width: 32px;\n",
              "    }\n",
              "\n",
              "    .colab-df-convert:hover {\n",
              "      background-color: #E2EBFA;\n",
              "      box-shadow: 0px 1px 2px rgba(60, 64, 67, 0.3), 0px 1px 3px 1px rgba(60, 64, 67, 0.15);\n",
              "      fill: #174EA6;\n",
              "    }\n",
              "\n",
              "    .colab-df-buttons div {\n",
              "      margin-bottom: 4px;\n",
              "    }\n",
              "\n",
              "    [theme=dark] .colab-df-convert {\n",
              "      background-color: #3B4455;\n",
              "      fill: #D2E3FC;\n",
              "    }\n",
              "\n",
              "    [theme=dark] .colab-df-convert:hover {\n",
              "      background-color: #434B5C;\n",
              "      box-shadow: 0px 1px 3px 1px rgba(0, 0, 0, 0.15);\n",
              "      filter: drop-shadow(0px 1px 2px rgba(0, 0, 0, 0.3));\n",
              "      fill: #FFFFFF;\n",
              "    }\n",
              "  </style>\n",
              "\n",
              "    <script>\n",
              "      const buttonEl =\n",
              "        document.querySelector('#df-08b5acf7-fc9f-4be2-9f0d-434ad3761762 button.colab-df-convert');\n",
              "      buttonEl.style.display =\n",
              "        google.colab.kernel.accessAllowed ? 'block' : 'none';\n",
              "\n",
              "      async function convertToInteractive(key) {\n",
              "        const element = document.querySelector('#df-08b5acf7-fc9f-4be2-9f0d-434ad3761762');\n",
              "        const dataTable =\n",
              "          await google.colab.kernel.invokeFunction('convertToInteractive',\n",
              "                                                    [key], {});\n",
              "        if (!dataTable) return;\n",
              "\n",
              "        const docLinkHtml = 'Like what you see? Visit the ' +\n",
              "          '<a target=\"_blank\" href=https://colab.research.google.com/notebooks/data_table.ipynb>data table notebook</a>'\n",
              "          + ' to learn more about interactive tables.';\n",
              "        element.innerHTML = '';\n",
              "        dataTable['output_type'] = 'display_data';\n",
              "        await google.colab.output.renderOutput(dataTable, element);\n",
              "        const docLink = document.createElement('div');\n",
              "        docLink.innerHTML = docLinkHtml;\n",
              "        element.appendChild(docLink);\n",
              "      }\n",
              "    </script>\n",
              "  </div>\n",
              "\n",
              "\n",
              "    <div id=\"df-fe387f14-730f-4f5e-85d2-1700c1859684\">\n",
              "      <button class=\"colab-df-quickchart\" onclick=\"quickchart('df-fe387f14-730f-4f5e-85d2-1700c1859684')\"\n",
              "                title=\"Suggest charts\"\n",
              "                style=\"display:none;\">\n",
              "\n",
              "<svg xmlns=\"http://www.w3.org/2000/svg\" height=\"24px\"viewBox=\"0 0 24 24\"\n",
              "     width=\"24px\">\n",
              "    <g>\n",
              "        <path d=\"M19 3H5c-1.1 0-2 .9-2 2v14c0 1.1.9 2 2 2h14c1.1 0 2-.9 2-2V5c0-1.1-.9-2-2-2zM9 17H7v-7h2v7zm4 0h-2V7h2v10zm4 0h-2v-4h2v4z\"/>\n",
              "    </g>\n",
              "</svg>\n",
              "      </button>\n",
              "\n",
              "<style>\n",
              "  .colab-df-quickchart {\n",
              "      --bg-color: #E8F0FE;\n",
              "      --fill-color: #1967D2;\n",
              "      --hover-bg-color: #E2EBFA;\n",
              "      --hover-fill-color: #174EA6;\n",
              "      --disabled-fill-color: #AAA;\n",
              "      --disabled-bg-color: #DDD;\n",
              "  }\n",
              "\n",
              "  [theme=dark] .colab-df-quickchart {\n",
              "      --bg-color: #3B4455;\n",
              "      --fill-color: #D2E3FC;\n",
              "      --hover-bg-color: #434B5C;\n",
              "      --hover-fill-color: #FFFFFF;\n",
              "      --disabled-bg-color: #3B4455;\n",
              "      --disabled-fill-color: #666;\n",
              "  }\n",
              "\n",
              "  .colab-df-quickchart {\n",
              "    background-color: var(--bg-color);\n",
              "    border: none;\n",
              "    border-radius: 50%;\n",
              "    cursor: pointer;\n",
              "    display: none;\n",
              "    fill: var(--fill-color);\n",
              "    height: 32px;\n",
              "    padding: 0;\n",
              "    width: 32px;\n",
              "  }\n",
              "\n",
              "  .colab-df-quickchart:hover {\n",
              "    background-color: var(--hover-bg-color);\n",
              "    box-shadow: 0 1px 2px rgba(60, 64, 67, 0.3), 0 1px 3px 1px rgba(60, 64, 67, 0.15);\n",
              "    fill: var(--button-hover-fill-color);\n",
              "  }\n",
              "\n",
              "  .colab-df-quickchart-complete:disabled,\n",
              "  .colab-df-quickchart-complete:disabled:hover {\n",
              "    background-color: var(--disabled-bg-color);\n",
              "    fill: var(--disabled-fill-color);\n",
              "    box-shadow: none;\n",
              "  }\n",
              "\n",
              "  .colab-df-spinner {\n",
              "    border: 2px solid var(--fill-color);\n",
              "    border-color: transparent;\n",
              "    border-bottom-color: var(--fill-color);\n",
              "    animation:\n",
              "      spin 1s steps(1) infinite;\n",
              "  }\n",
              "\n",
              "  @keyframes spin {\n",
              "    0% {\n",
              "      border-color: transparent;\n",
              "      border-bottom-color: var(--fill-color);\n",
              "      border-left-color: var(--fill-color);\n",
              "    }\n",
              "    20% {\n",
              "      border-color: transparent;\n",
              "      border-left-color: var(--fill-color);\n",
              "      border-top-color: var(--fill-color);\n",
              "    }\n",
              "    30% {\n",
              "      border-color: transparent;\n",
              "      border-left-color: var(--fill-color);\n",
              "      border-top-color: var(--fill-color);\n",
              "      border-right-color: var(--fill-color);\n",
              "    }\n",
              "    40% {\n",
              "      border-color: transparent;\n",
              "      border-right-color: var(--fill-color);\n",
              "      border-top-color: var(--fill-color);\n",
              "    }\n",
              "    60% {\n",
              "      border-color: transparent;\n",
              "      border-right-color: var(--fill-color);\n",
              "    }\n",
              "    80% {\n",
              "      border-color: transparent;\n",
              "      border-right-color: var(--fill-color);\n",
              "      border-bottom-color: var(--fill-color);\n",
              "    }\n",
              "    90% {\n",
              "      border-color: transparent;\n",
              "      border-bottom-color: var(--fill-color);\n",
              "    }\n",
              "  }\n",
              "</style>\n",
              "\n",
              "      <script>\n",
              "        async function quickchart(key) {\n",
              "          const quickchartButtonEl =\n",
              "            document.querySelector('#' + key + ' button');\n",
              "          quickchartButtonEl.disabled = true;  // To prevent multiple clicks.\n",
              "          quickchartButtonEl.classList.add('colab-df-spinner');\n",
              "          try {\n",
              "            const charts = await google.colab.kernel.invokeFunction(\n",
              "                'suggestCharts', [key], {});\n",
              "          } catch (error) {\n",
              "            console.error('Error during call to suggestCharts:', error);\n",
              "          }\n",
              "          quickchartButtonEl.classList.remove('colab-df-spinner');\n",
              "          quickchartButtonEl.classList.add('colab-df-quickchart-complete');\n",
              "        }\n",
              "        (() => {\n",
              "          let quickchartButtonEl =\n",
              "            document.querySelector('#df-fe387f14-730f-4f5e-85d2-1700c1859684 button');\n",
              "          quickchartButtonEl.style.display =\n",
              "            google.colab.kernel.accessAllowed ? 'block' : 'none';\n",
              "        })();\n",
              "      </script>\n",
              "    </div>\n",
              "\n",
              "    </div>\n",
              "  </div>\n"
            ],
            "application/vnd.google.colaboratory.intrinsic+json": {
              "type": "dataframe",
              "variable_name": "sample",
              "summary": "{\n  \"name\": \"sample\",\n  \"rows\": 100,\n  \"fields\": [\n    {\n      \"column\": \"X1\",\n      \"properties\": {\n        \"dtype\": \"number\",\n        \"std\": 1.1721814939918593,\n        \"min\": 0.0,\n        \"max\": 4.0,\n        \"num_unique_values\": 100,\n        \"samples\": [\n          3.353535354,\n          2.141414141,\n          2.828282828\n        ],\n        \"semantic_type\": \"\",\n        \"description\": \"\"\n      }\n    },\n    {\n      \"column\": \"X2\",\n      \"properties\": {\n        \"dtype\": \"number\",\n        \"std\": 1.1721536398366212,\n        \"min\": 0.07030303,\n        \"max\": 3.949090909,\n        \"num_unique_values\": 100,\n        \"samples\": [\n          1.120808081,\n          0.272323232,\n          0.086464646\n        ],\n        \"semantic_type\": \"\",\n        \"description\": \"\"\n      }\n    },\n    {\n      \"column\": \"X3\",\n      \"properties\": {\n        \"dtype\": \"number\",\n        \"std\": 1.163004879154481,\n        \"min\": 0.027878788,\n        \"max\": 3.943030303,\n        \"num_unique_values\": 100,\n        \"samples\": [\n          1.664242424,\n          0.20969697,\n          3.833939394\n        ],\n        \"semantic_type\": \"\",\n        \"description\": \"\"\n      }\n    },\n    {\n      \"column\": \"Y\",\n      \"properties\": {\n        \"dtype\": \"number\",\n        \"std\": 2.77464264389285,\n        \"min\": -5.332454989,\n        \"max\": 5.545892118,\n        \"num_unique_values\": 100,\n        \"samples\": [\n          -1.678452336,\n          2.569971294,\n          -0.650022584\n        ],\n        \"semantic_type\": \"\",\n        \"description\": \"\"\n      }\n    }\n  ]\n}"
            }
          },
          "metadata": {},
          "execution_count": 3
        }
      ]
    },
    {
      "cell_type": "code",
      "source": [
        "# Define explanatory varialbles (X1,X2,X3), output(Y), and the sample training numbers\n",
        "\n",
        "X = sample[[\"X1\",\"X2\",\"X3\"]].values\n",
        "y = sample[\"Y\"].values\n",
        "m = len(y)  # Number of training examples\n",
        "n = len(X)  # Number of training examples\n",
        "\n",
        "# Display all the data and the total number of training examples\n",
        "print('X = ', X[: 100])\n",
        "print('y = ', y[: 100])\n",
        "print('m = ', m)\n",
        "print('n = ', n)\n",
        "\n"
      ],
      "metadata": {
        "id": "vtNSSkdrgWGV"
      },
      "execution_count": null,
      "outputs": []
    },
    {
      "cell_type": "code",
      "source": [
        "X_0 = np.ones((m, 1)) #define X0 as column vector with value 1\n",
        "X_0[:100]"
      ],
      "metadata": {
        "id": "Bxt7Ah1XtXuG"
      },
      "execution_count": null,
      "outputs": []
    },
    {
      "cell_type": "code",
      "source": [
        "X_1 = X.reshape(m, 3) #Insert X1,X2,X3 value in one matrix\n",
        "X_1[:100]"
      ],
      "metadata": {
        "id": "oOuAqk2Ctbxp",
        "colab": {
          "base_uri": "https://localhost:8080/"
        },
        "outputId": "25b597da-04d8-4575-868d-bbf7197f50a5"
      },
      "execution_count": 7,
      "outputs": [
        {
          "output_type": "execute_result",
          "data": {
            "text/plain": [
              "array([[0.        , 3.44      , 0.44      ],\n",
              "       [0.04040404, 0.1349495 , 0.88848485],\n",
              "       [0.08080808, 0.82989899, 1.3369697 ],\n",
              "       [0.12121212, 1.52484848, 1.78545454],\n",
              "       [0.16161616, 2.21979798, 2.23393939],\n",
              "       [0.2020202 , 2.91474747, 2.68242424],\n",
              "       [0.24242424, 3.60969697, 3.13090909],\n",
              "       [0.28282828, 0.30464646, 3.57939394],\n",
              "       [0.32323232, 0.99959596, 0.02787879],\n",
              "       [0.36363636, 1.69454546, 0.47636364],\n",
              "       [0.4040404 , 2.38949495, 0.92484849],\n",
              "       [0.44444444, 3.08444444, 1.37333333],\n",
              "       [0.48484848, 3.77939394, 1.82181818],\n",
              "       [0.52525252, 0.47434343, 2.27030303],\n",
              "       [0.56565657, 1.16929293, 2.71878788],\n",
              "       [0.60606061, 1.86424242, 3.16727273],\n",
              "       [0.64646465, 2.55919192, 3.61575758],\n",
              "       [0.68686869, 3.25414141, 0.06424242],\n",
              "       [0.72727273, 3.94909091, 0.51272727],\n",
              "       [0.76767677, 0.6440404 , 0.96121212],\n",
              "       [0.80808081, 1.3389899 , 1.40969697],\n",
              "       [0.84848485, 2.03393939, 1.85818182],\n",
              "       [0.88888889, 2.72888889, 2.30666667],\n",
              "       [0.92929293, 3.42383838, 2.75515152],\n",
              "       [0.96969697, 0.11878788, 3.20363636],\n",
              "       [1.01010101, 0.81373737, 3.65212121],\n",
              "       [1.05050505, 1.50868687, 0.10060606],\n",
              "       [1.09090909, 2.20363636, 0.54909091],\n",
              "       [1.13131313, 2.89858586, 0.99757576],\n",
              "       [1.17171717, 3.59353535, 1.44606061],\n",
              "       [1.21212121, 0.28848485, 1.89454546],\n",
              "       [1.25252525, 0.98343434, 2.3430303 ],\n",
              "       [1.29292929, 1.67838384, 2.79151515],\n",
              "       [1.33333333, 2.37333333, 3.24      ],\n",
              "       [1.37373737, 3.06828283, 3.68848485],\n",
              "       [1.41414141, 3.76323232, 0.1369697 ],\n",
              "       [1.45454546, 0.45818182, 0.58545455],\n",
              "       [1.49494949, 1.15313131, 1.03393939],\n",
              "       [1.53535354, 1.84808081, 1.48242424],\n",
              "       [1.57575758, 2.5430303 , 1.93090909],\n",
              "       [1.61616162, 3.2379798 , 2.37939394],\n",
              "       [1.65656566, 3.93292929, 2.82787879],\n",
              "       [1.6969697 , 0.62787879, 3.27636364],\n",
              "       [1.73737374, 1.32282828, 3.72484848],\n",
              "       [1.77777778, 2.01777778, 0.17333333],\n",
              "       [1.81818182, 2.71272727, 0.62181818],\n",
              "       [1.85858586, 3.40767677, 1.07030303],\n",
              "       [1.8989899 , 0.10262626, 1.51878788],\n",
              "       [1.93939394, 0.79757576, 1.96727273],\n",
              "       [1.97979798, 1.49252525, 2.41575758],\n",
              "       [2.02020202, 2.18747475, 2.86424242],\n",
              "       [2.06060606, 2.88242424, 3.31272727],\n",
              "       [2.1010101 , 3.57737374, 3.76121212],\n",
              "       [2.14141414, 0.27232323, 0.20969697],\n",
              "       [2.18181818, 0.96727273, 0.65818182],\n",
              "       [2.22222222, 1.66222222, 1.10666667],\n",
              "       [2.26262626, 2.35717172, 1.55515151],\n",
              "       [2.3030303 , 3.05212121, 2.00363636],\n",
              "       [2.34343434, 3.74707071, 2.45212121],\n",
              "       [2.38383838, 0.4420202 , 2.90060606],\n",
              "       [2.42424242, 1.1369697 , 3.34909091],\n",
              "       [2.46464646, 1.83191919, 3.79757576],\n",
              "       [2.5050505 , 2.52686869, 0.24606061],\n",
              "       [2.54545455, 3.22181818, 0.69454545],\n",
              "       [2.58585859, 3.91676768, 1.1430303 ],\n",
              "       [2.62626263, 0.61171717, 1.59151515],\n",
              "       [2.66666667, 1.30666667, 2.04      ],\n",
              "       [2.70707071, 2.00161616, 2.48848485],\n",
              "       [2.74747475, 2.69656566, 2.9369697 ],\n",
              "       [2.78787879, 3.39151515, 3.38545454],\n",
              "       [2.82828283, 0.08646465, 3.83393939],\n",
              "       [2.86868687, 0.78141414, 0.28242424],\n",
              "       [2.90909091, 1.47636364, 0.73090909],\n",
              "       [2.94949495, 2.17131313, 1.17939394],\n",
              "       [2.98989899, 2.86626263, 1.62787879],\n",
              "       [3.03030303, 3.56121212, 2.07636364],\n",
              "       [3.07070707, 0.25616162, 2.52484849],\n",
              "       [3.11111111, 0.95111111, 2.97333333],\n",
              "       [3.15151515, 1.64606061, 3.42181818],\n",
              "       [3.19191919, 2.3410101 , 3.87030303],\n",
              "       [3.23232323, 3.0359596 , 0.31878788],\n",
              "       [3.27272727, 3.73090909, 0.76727273],\n",
              "       [3.31313131, 0.42585859, 1.21575758],\n",
              "       [3.35353535, 1.12080808, 1.66424242],\n",
              "       [3.39393939, 1.81575758, 2.11272727],\n",
              "       [3.43434343, 2.51070707, 2.56121212],\n",
              "       [3.47474748, 3.20565657, 3.00969697],\n",
              "       [3.51515151, 3.90060606, 3.45818182],\n",
              "       [3.55555556, 0.59555556, 3.90666667],\n",
              "       [3.5959596 , 1.29050505, 0.35515151],\n",
              "       [3.63636364, 1.98545455, 0.80363636],\n",
              "       [3.67676768, 2.68040404, 1.25212121],\n",
              "       [3.71717172, 3.37535353, 1.70060606],\n",
              "       [3.75757576, 0.07030303, 2.14909091],\n",
              "       [3.7979798 , 0.76525252, 2.59757576],\n",
              "       [3.83838384, 1.46020202, 3.04606061],\n",
              "       [3.87878788, 2.15515152, 3.49454545],\n",
              "       [3.91919192, 2.85010101, 3.9430303 ],\n",
              "       [3.95959596, 3.5450505 , 0.39151515],\n",
              "       [4.        , 0.24      , 0.84      ]])"
            ]
          },
          "metadata": {},
          "execution_count": 7
        }
      ]
    },
    {
      "cell_type": "code",
      "source": [
        "# Build X as a 2D array matrix with X0 and X1\n",
        "X = np.hstack((X_0, X_1))\n",
        "X[:100]"
      ],
      "metadata": {
        "id": "ctdMsSnkuAU_"
      },
      "execution_count": null,
      "outputs": []
    },
    {
      "cell_type": "code",
      "source": [
        "theta = np.zeros(4)\n",
        "theta"
      ],
      "metadata": {
        "colab": {
          "base_uri": "https://localhost:8080/"
        },
        "id": "bUyofyOcum3q",
        "outputId": "b7b822c5-4213-4823-cd7a-b7b5ea729814"
      },
      "execution_count": 9,
      "outputs": [
        {
          "output_type": "execute_result",
          "data": {
            "text/plain": [
              "array([0., 0., 0., 0.])"
            ]
          },
          "metadata": {},
          "execution_count": 9
        }
      ]
    },
    {
      "cell_type": "code",
      "source": [
        "def compute_cost(X, y, theta):\n",
        "    predictions = X.dot(theta) #hypothesis function\n",
        "    errors = np.subtract(predictions, y)\n",
        "    sqrErrors = np.square(errors)\n",
        "    J = 1 / (2 * m) * np.sum(sqrErrors)\n",
        "    return J"
      ],
      "metadata": {
        "id": "e942Br2mu67a"
      },
      "execution_count": 12,
      "outputs": []
    },
    {
      "cell_type": "code",
      "source": [
        "# calculate the cost for theta values\n",
        "cost = compute_cost(X, y, theta)\n",
        "print('The cost for given values of theta_0 and theta_1 =', cost)"
      ],
      "metadata": {
        "colab": {
          "base_uri": "https://localhost:8080/"
        },
        "id": "KNUEB7gKvL3H",
        "outputId": "caf21483-58fd-4c23-c6f0-a6cdbfff048c"
      },
      "execution_count": 13,
      "outputs": [
        {
          "output_type": "stream",
          "name": "stdout",
          "text": [
            "The cost for given values of theta_0 and theta_1 = 5.524438459196242\n"
          ]
        }
      ]
    },
    {
      "cell_type": "code",
      "source": [
        "def gradient_descent(X, y, theta, alpha, iterations):\n",
        "\n",
        "    m = len(y)  # Number of training examples\n",
        "    cost_history = np.zeros(iterations)\n",
        "\n",
        "    for i in range(iterations):\n",
        "        predictions = X.dot(theta)\n",
        "        errors = np.subtract(predictions, y)\n",
        "        sum_delta = (alpha / m) * X.transpose().dot(errors)\n",
        "        theta -= sum_delta\n",
        "        cost_history[i] = compute_cost(X, y, theta)\n",
        "\n",
        "    return theta, cost_history"
      ],
      "metadata": {
        "id": "obcPa5kQxQ1T"
      },
      "execution_count": 14,
      "outputs": []
    },
    {
      "cell_type": "code",
      "source": [
        "theta = [0., 0.,0., 0.]\n",
        "iterations = 1500\n",
        "alpha = 0.1"
      ],
      "metadata": {
        "id": "XdfMFxhsxggf"
      },
      "execution_count": 15,
      "outputs": []
    },
    {
      "cell_type": "code",
      "source": [
        "theta, cost_history = gradient_descent(X, y, theta, alpha, iterations)\n",
        "print('Final value of theta =', theta)\n",
        "print('cost_history =', cost_history)"
      ],
      "metadata": {
        "colab": {
          "base_uri": "https://localhost:8080/"
        },
        "id": "JB3LWJFwxxH0",
        "outputId": "b30baaa9-d54c-4bde-b316-4b720b1011e0"
      },
      "execution_count": 16,
      "outputs": [
        {
          "output_type": "stream",
          "name": "stdout",
          "text": [
            "Final value of theta = [ 5.31416563 -2.00371905  0.53256359 -0.26560164]\n",
            "cost_history = [4.13064348 3.51770697 3.12758306 ... 0.73846424 0.73846424 0.73846424]\n"
          ]
        }
      ]
    },
    {
      "cell_type": "code",
      "source": [
        "y_hat = X.dot(theta)\n",
        "\n",
        "plt.figure(figsize=(6,6))\n",
        "plt.scatter(y, y_hat, alpha=0.7)\n",
        "lo = float(min(y.min(), y_hat.min()))\n",
        "hi = float(max(y.max(), y_hat.max()))\n",
        "plt.plot([lo, hi], [lo, hi], linestyle=\"--\")  # identity line (Ŷ = Y)\n",
        "\n",
        "plt.xlabel(\"Actual Y\")\n",
        "plt.ylabel(\"Predicted Ŷ\")\n",
        "plt.title(f\"Predicted vs Actual (α={alpha}, final loss={cost_history[-1]:.4f})\")\n",
        "plt.grid(True)\n",
        "plt.axis(\"equal\")\n",
        "plt.tight_layout()\n",
        "plt.show()"
      ],
      "metadata": {
        "colab": {
          "base_uri": "https://localhost:8080/",
          "height": 607
        },
        "id": "JF8iLVu2SrQS",
        "outputId": "04f5ce3a-1a20-4949-f957-01e9cdf98238"
      },
      "execution_count": 17,
      "outputs": [
        {
          "output_type": "display_data",
          "data": {
            "text/plain": [
              "<Figure size 600x600 with 1 Axes>"
            ],
            "image/png": "[encoded data removed]"
          },
          "metadata": {}
        }
      ]
    },
    {
      "cell_type": "code",
      "source": [
        "# plot the cost vs iteration\n",
        "plt.plot(range(1, iterations + 1), cost_history, color='blue')\n",
        "plt.rcParams[\"figure.figsize\"] = (10, 6)\n",
        "plt.grid(True)\n",
        "\n",
        "plt.xlabel('Number of iterations')\n",
        "plt.ylabel('Cost (J)')\n",
        "plt.title('Convergence of gradient descent')\n",
        "\n",
        "plt.show()"
      ],
      "metadata": {
        "id": "pXQPxZH_C5ey",
        "colab": {
          "base_uri": "https://localhost:8080/",
          "height": 564
        },
        "outputId": "600193b8-d0be-4018-e192-10136a02073c"
      },
      "execution_count": 19,
      "outputs": [
        {
          "output_type": "display_data",
          "data": {
            "text/plain": [
              "<Figure size 1000x600 with 1 Axes>"
            ],
            "image/png": "[encoded data removed]"
          },
          "metadata": {}
        }
      ]
    }
  ]
}