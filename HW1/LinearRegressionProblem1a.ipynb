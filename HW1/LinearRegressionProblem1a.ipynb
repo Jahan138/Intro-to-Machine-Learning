{
  "nbformat": 4,
  "nbformat_minor": 0,
  "metadata": {
    "colab": {
      "provenance": [],
      "authorship_tag": "ABX9TyM4LMWN1uze8ik4aPleTtgD",
      "include_colab_link": true
    },
    "kernelspec": {
      "name": "python3",
      "display_name": "Python 3"
    },
    "language_info": {
      "name": "python"
    }
  },
  "cells": [
    {
      "cell_type": "markdown",
      "metadata": {
        "id": "view-in-github",
        "colab_type": "text"
      },
      "source": [
        "<a href=\"https://colab.research.google.com/github/jahanshukhy/Intro-to-Machine-Learning/blob/main/LinearRegressionProblem1a.ipynb\" target=\"_parent\"><img src=\"https://colab.research.google.com/assets/colab-badge.svg\" alt=\"Open In Colab\"/></a>"
      ]
    },
    {
      "cell_type": "code",
      "execution_count": null,
      "metadata": {
        "colab": {
          "base_uri": "https://localhost:8080/"
        },
        "id": "NMS-Gf68a0-T",
        "outputId": "8c6b416f-6440-48d9-e038-d318f25969d1"
      },
      "outputs": [
        {
          "output_type": "stream",
          "name": "stdout",
          "text": [
            "Mounted at /content/drive\n"
          ]
        }
      ],
      "source": [
        "import numpy as np\n",
        "import pandas as pd\n",
        "import matplotlib.pyplot as plt\n",
        "from google.colab import drive\n",
        "drive.mount('/content/drive')"
      ]
    },
    {
      "cell_type": "code",
      "source": [
        "# import D3.csv from the Drive\n",
        "file_path = '/content/drive/My Drive/ML/HW1/D3.csv'\n",
        "sample = pd.DataFrame(pd.read_csv(file_path))\n",
        "sample.head()"
      ],
      "metadata": {
        "colab": {
          "base_uri": "https://localhost:8080/",
          "height": 206
        },
        "id": "3FdEfpKCcEoP",
        "outputId": "a41c5f8b-5f26-4998-d03e-8431ae3e7cf9"
      },
      "execution_count": null,
      "outputs": [
        {
          "output_type": "execute_result",
          "data": {
            "text/plain": [
              "         X1        X2        X3         Y\n",
              "0  0.000000  3.440000  0.440000  4.387545\n",
              "1  0.040404  0.134949  0.888485  2.679650\n",
              "2  0.080808  0.829899  1.336970  2.968490\n",
              "3  0.121212  1.524848  1.785455  3.254065\n",
              "4  0.161616  2.219798  2.233939  3.536375"
            ],
            "text/html": [
              "\n",
              "  <div id=\"df-35ee1b08-e50d-4fc9-adb0-b5bd3ced8163\" class=\"colab-df-container\">\n",
              "    <div>\n",
              "<style scoped>\n",
              "    .dataframe tbody tr th:only-of-type {\n",
              "        vertical-align: middle;\n",
              "    }\n",
              "\n",
              "    .dataframe tbody tr th {\n",
              "        vertical-align: top;\n",
              "    }\n",
              "\n",
              "    .dataframe thead th {\n",
              "        text-align: right;\n",
              "    }\n",
              "</style>\n",
              "<table border=\"1\" class=\"dataframe\">\n",
              "  <thead>\n",
              "    <tr style=\"text-align: right;\">\n",
              "      <th></th>\n",
              "      <th>X1</th>\n",
              "      <th>X2</th>\n",
              "      <th>X3</th>\n",
              "      <th>Y</th>\n",
              "    </tr>\n",
              "  </thead>\n",
              "  <tbody>\n",
              "    <tr>\n",
              "      <th>0</th>\n",
              "      <td>0.000000</td>\n",
              "      <td>3.440000</td>\n",
              "      <td>0.440000</td>\n",
              "      <td>4.387545</td>\n",
              "    </tr>\n",
              "    <tr>\n",
              "      <th>1</th>\n",
              "      <td>0.040404</td>\n",
              "      <td>0.134949</td>\n",
              "      <td>0.888485</td>\n",
              "      <td>2.679650</td>\n",
              "    </tr>\n",
              "    <tr>\n",
              "      <th>2</th>\n",
              "      <td>0.080808</td>\n",
              "      <td>0.829899</td>\n",
              "      <td>1.336970</td>\n",
              "      <td>2.968490</td>\n",
              "    </tr>\n",
              "    <tr>\n",
              "      <th>3</th>\n",
              "      <td>0.121212</td>\n",
              "      <td>1.524848</td>\n",
              "      <td>1.785455</td>\n",
              "      <td>3.254065</td>\n",
              "    </tr>\n",
              "    <tr>\n",
              "      <th>4</th>\n",
              "      <td>0.161616</td>\n",
              "      <td>2.219798</td>\n",
              "      <td>2.233939</td>\n",
              "      <td>3.536375</td>\n",
              "    </tr>\n",
              "  </tbody>\n",
              "</table>\n",
              "</div>\n",
              "    <div class=\"colab-df-buttons\">\n",
              "\n",
              "  <div class=\"colab-df-container\">\n",
              "    <button class=\"colab-df-convert\" onclick=\"convertToInteractive('df-35ee1b08-e50d-4fc9-adb0-b5bd3ced8163')\"\n",
              "            title=\"Convert this dataframe to an interactive table.\"\n",
              "            style=\"display:none;\">\n",
              "\n",
              "  <svg xmlns=\"http://www.w3.org/2000/svg\" height=\"24px\" viewBox=\"0 -960 960 960\">\n",
              "    <path d=\"M120-120v-720h720v720H120Zm60-500h600v-160H180v160Zm220 220h160v-160H400v160Zm0 220h160v-160H400v160ZM180-400h160v-160H180v160Zm440 0h160v-160H620v160ZM180-180h160v-160H180v160Zm440 0h160v-160H620v160Z\"/>\n",
              "  </svg>\n",
              "    </button>\n",
              "\n",
              "  <style>\n",
              "    .colab-df-container {\n",
              "      display:flex;\n",
              "      gap: 12px;\n",
              "    }\n",
              "\n",
              "    .colab-df-convert {\n",
              "      background-color: #E8F0FE;\n",
              "      border: none;\n",
              "      border-radius: 50%;\n",
              "      cursor: pointer;\n",
              "      display: none;\n",
              "      fill: #1967D2;\n",
              "      height: 32px;\n",
              "      padding: 0 0 0 0;\n",
              "      width: 32px;\n",
              "    }\n",
              "\n",
              "    .colab-df-convert:hover {\n",
              "      background-color: #E2EBFA;\n",
              "      box-shadow: 0px 1px 2px rgba(60, 64, 67, 0.3), 0px 1px 3px 1px rgba(60, 64, 67, 0.15);\n",
              "      fill: #174EA6;\n",
              "    }\n",
              "\n",
              "    .colab-df-buttons div {\n",
              "      margin-bottom: 4px;\n",
              "    }\n",
              "\n",
              "    [theme=dark] .colab-df-convert {\n",
              "      background-color: #3B4455;\n",
              "      fill: #D2E3FC;\n",
              "    }\n",
              "\n",
              "    [theme=dark] .colab-df-convert:hover {\n",
              "      background-color: #434B5C;\n",
              "      box-shadow: 0px 1px 3px 1px rgba(0, 0, 0, 0.15);\n",
              "      filter: drop-shadow(0px 1px 2px rgba(0, 0, 0, 0.3));\n",
              "      fill: #FFFFFF;\n",
              "    }\n",
              "  </style>\n",
              "\n",
              "    <script>\n",
              "      const buttonEl =\n",
              "        document.querySelector('#df-35ee1b08-e50d-4fc9-adb0-b5bd3ced8163 button.colab-df-convert');\n",
              "      buttonEl.style.display =\n",
              "        google.colab.kernel.accessAllowed ? 'block' : 'none';\n",
              "\n",
              "      async function convertToInteractive(key) {\n",
              "        const element = document.querySelector('#df-35ee1b08-e50d-4fc9-adb0-b5bd3ced8163');\n",
              "        const dataTable =\n",
              "          await google.colab.kernel.invokeFunction('convertToInteractive',\n",
              "                                                    [key], {});\n",
              "        if (!dataTable) return;\n",
              "\n",
              "        const docLinkHtml = 'Like what you see? Visit the ' +\n",
              "          '<a target=\"_blank\" href=https://colab.research.google.com/notebooks/data_table.ipynb>data table notebook</a>'\n",
              "          + ' to learn more about interactive tables.';\n",
              "        element.innerHTML = '';\n",
              "        dataTable['output_type'] = 'display_data';\n",
              "        await google.colab.output.renderOutput(dataTable, element);\n",
              "        const docLink = document.createElement('div');\n",
              "        docLink.innerHTML = docLinkHtml;\n",
              "        element.appendChild(docLink);\n",
              "      }\n",
              "    </script>\n",
              "  </div>\n",
              "\n",
              "\n",
              "    <div id=\"df-a7f75475-9f78-4d8e-809f-adce220b463a\">\n",
              "      <button class=\"colab-df-quickchart\" onclick=\"quickchart('df-a7f75475-9f78-4d8e-809f-adce220b463a')\"\n",
              "                title=\"Suggest charts\"\n",
              "                style=\"display:none;\">\n",
              "\n",
              "<svg xmlns=\"http://www.w3.org/2000/svg\" height=\"24px\"viewBox=\"0 0 24 24\"\n",
              "     width=\"24px\">\n",
              "    <g>\n",
              "        <path d=\"M19 3H5c-1.1 0-2 .9-2 2v14c0 1.1.9 2 2 2h14c1.1 0 2-.9 2-2V5c0-1.1-.9-2-2-2zM9 17H7v-7h2v7zm4 0h-2V7h2v10zm4 0h-2v-4h2v4z\"/>\n",
              "    </g>\n",
              "</svg>\n",
              "      </button>\n",
              "\n",
              "<style>\n",
              "  .colab-df-quickchart {\n",
              "      --bg-color: #E8F0FE;\n",
              "      --fill-color: #1967D2;\n",
              "      --hover-bg-color: #E2EBFA;\n",
              "      --hover-fill-color: #174EA6;\n",
              "      --disabled-fill-color: #AAA;\n",
              "      --disabled-bg-color: #DDD;\n",
              "  }\n",
              "\n",
              "  [theme=dark] .colab-df-quickchart {\n",
              "      --bg-color: #3B4455;\n",
              "      --fill-color: #D2E3FC;\n",
              "      --hover-bg-color: #434B5C;\n",
              "      --hover-fill-color: #FFFFFF;\n",
              "      --disabled-bg-color: #3B4455;\n",
              "      --disabled-fill-color: #666;\n",
              "  }\n",
              "\n",
              "  .colab-df-quickchart {\n",
              "    background-color: var(--bg-color);\n",
              "    border: none;\n",
              "    border-radius: 50%;\n",
              "    cursor: pointer;\n",
              "    display: none;\n",
              "    fill: var(--fill-color);\n",
              "    height: 32px;\n",
              "    padding: 0;\n",
              "    width: 32px;\n",
              "  }\n",
              "\n",
              "  .colab-df-quickchart:hover {\n",
              "    background-color: var(--hover-bg-color);\n",
              "    box-shadow: 0 1px 2px rgba(60, 64, 67, 0.3), 0 1px 3px 1px rgba(60, 64, 67, 0.15);\n",
              "    fill: var(--button-hover-fill-color);\n",
              "  }\n",
              "\n",
              "  .colab-df-quickchart-complete:disabled,\n",
              "  .colab-df-quickchart-complete:disabled:hover {\n",
              "    background-color: var(--disabled-bg-color);\n",
              "    fill: var(--disabled-fill-color);\n",
              "    box-shadow: none;\n",
              "  }\n",
              "\n",
              "  .colab-df-spinner {\n",
              "    border: 2px solid var(--fill-color);\n",
              "    border-color: transparent;\n",
              "    border-bottom-color: var(--fill-color);\n",
              "    animation:\n",
              "      spin 1s steps(1) infinite;\n",
              "  }\n",
              "\n",
              "  @keyframes spin {\n",
              "    0% {\n",
              "      border-color: transparent;\n",
              "      border-bottom-color: var(--fill-color);\n",
              "      border-left-color: var(--fill-color);\n",
              "    }\n",
              "    20% {\n",
              "      border-color: transparent;\n",
              "      border-left-color: var(--fill-color);\n",
              "      border-top-color: var(--fill-color);\n",
              "    }\n",
              "    30% {\n",
              "      border-color: transparent;\n",
              "      border-left-color: var(--fill-color);\n",
              "      border-top-color: var(--fill-color);\n",
              "      border-right-color: var(--fill-color);\n",
              "    }\n",
              "    40% {\n",
              "      border-color: transparent;\n",
              "      border-right-color: var(--fill-color);\n",
              "      border-top-color: var(--fill-color);\n",
              "    }\n",
              "    60% {\n",
              "      border-color: transparent;\n",
              "      border-right-color: var(--fill-color);\n",
              "    }\n",
              "    80% {\n",
              "      border-color: transparent;\n",
              "      border-right-color: var(--fill-color);\n",
              "      border-bottom-color: var(--fill-color);\n",
              "    }\n",
              "    90% {\n",
              "      border-color: transparent;\n",
              "      border-bottom-color: var(--fill-color);\n",
              "    }\n",
              "  }\n",
              "</style>\n",
              "\n",
              "      <script>\n",
              "        async function quickchart(key) {\n",
              "          const quickchartButtonEl =\n",
              "            document.querySelector('#' + key + ' button');\n",
              "          quickchartButtonEl.disabled = true;  // To prevent multiple clicks.\n",
              "          quickchartButtonEl.classList.add('colab-df-spinner');\n",
              "          try {\n",
              "            const charts = await google.colab.kernel.invokeFunction(\n",
              "                'suggestCharts', [key], {});\n",
              "          } catch (error) {\n",
              "            console.error('Error during call to suggestCharts:', error);\n",
              "          }\n",
              "          quickchartButtonEl.classList.remove('colab-df-spinner');\n",
              "          quickchartButtonEl.classList.add('colab-df-quickchart-complete');\n",
              "        }\n",
              "        (() => {\n",
              "          let quickchartButtonEl =\n",
              "            document.querySelector('#df-a7f75475-9f78-4d8e-809f-adce220b463a button');\n",
              "          quickchartButtonEl.style.display =\n",
              "            google.colab.kernel.accessAllowed ? 'block' : 'none';\n",
              "        })();\n",
              "      </script>\n",
              "    </div>\n",
              "\n",
              "    </div>\n",
              "  </div>\n"
            ],
            "application/vnd.google.colaboratory.intrinsic+json": {
              "type": "dataframe",
              "variable_name": "sample",
              "summary": "{\n  \"name\": \"sample\",\n  \"rows\": 100,\n  \"fields\": [\n    {\n      \"column\": \"X1\",\n      \"properties\": {\n        \"dtype\": \"number\",\n        \"std\": 1.1721814939918593,\n        \"min\": 0.0,\n        \"max\": 4.0,\n        \"num_unique_values\": 100,\n        \"samples\": [\n          3.353535354,\n          2.141414141,\n          2.828282828\n        ],\n        \"semantic_type\": \"\",\n        \"description\": \"\"\n      }\n    },\n    {\n      \"column\": \"X2\",\n      \"properties\": {\n        \"dtype\": \"number\",\n        \"std\": 1.1721536398366212,\n        \"min\": 0.07030303,\n        \"max\": 3.949090909,\n        \"num_unique_values\": 100,\n        \"samples\": [\n          1.120808081,\n          0.272323232,\n          0.086464646\n        ],\n        \"semantic_type\": \"\",\n        \"description\": \"\"\n      }\n    },\n    {\n      \"column\": \"X3\",\n      \"properties\": {\n        \"dtype\": \"number\",\n        \"std\": 1.163004879154481,\n        \"min\": 0.027878788,\n        \"max\": 3.943030303,\n        \"num_unique_values\": 100,\n        \"samples\": [\n          1.664242424,\n          0.20969697,\n          3.833939394\n        ],\n        \"semantic_type\": \"\",\n        \"description\": \"\"\n      }\n    },\n    {\n      \"column\": \"Y\",\n      \"properties\": {\n        \"dtype\": \"number\",\n        \"std\": 2.77464264389285,\n        \"min\": -5.332454989,\n        \"max\": 5.545892118,\n        \"num_unique_values\": 100,\n        \"samples\": [\n          -1.678452336,\n          2.569971294,\n          -0.650022584\n        ],\n        \"semantic_type\": \"\",\n        \"description\": \"\"\n      }\n    }\n  ]\n}"
            }
          },
          "metadata": {},
          "execution_count": 9
        }
      ]
    },
    {
      "cell_type": "code",
      "source": [
        "# Define explanatory varialbles, output, and the sample training numbers\n",
        "X = sample.values[:, 0]  # explanatory variable from first column -- X1\n",
        "#X = sample.values[:, 1]  # explanatory variable from second column -- X2\n",
        "#X = sample.values[:, 2]  # explanatory variable from third column -- X3\n",
        "y = sample.values[:, 3]  # output values from last column\n",
        "m = len(y)  # Number of training examples\n",
        "n = len(X)  # Number of training examples\n",
        "\n",
        "# Display all the data and the total number of training examples\n",
        "print('X = ', X[: 100])\n",
        "print('y = ', y[: 100])\n",
        "print('m = ', m)\n",
        "print('n = ', n)\n",
        "\n",
        "# Scatter plot\n",
        "plt.scatter(X, y, color='red', marker='+')\n",
        "\n",
        "# Grid, labels, and title\n",
        "plt.grid(True)\n",
        "plt.rcParams[\"figure.figsize\"] = (6, 6)\n",
        "plt.xlabel('X1')\n",
        "plt.ylabel('Y')\n",
        "plt.title('Scatter plot of training data')\n",
        "\n",
        "# Show the plot\n",
        "plt.show()"
      ],
      "metadata": {
        "id": "vtNSSkdrgWGV",
        "colab": {
          "base_uri": "https://localhost:8080/",
          "height": 1000
        },
        "outputId": "78fc552f-9b52-42a4-d1b1-764cd6a555bd"
      },
      "execution_count": null,
      "outputs": [
        {
          "output_type": "stream",
          "name": "stdout",
          "text": [
            "X =  [0.         0.04040404 0.08080808 0.12121212 0.16161616 0.2020202\n",
            " 0.24242424 0.28282828 0.32323232 0.36363636 0.4040404  0.44444444\n",
            " 0.48484848 0.52525252 0.56565657 0.60606061 0.64646465 0.68686869\n",
            " 0.72727273 0.76767677 0.80808081 0.84848485 0.88888889 0.92929293\n",
            " 0.96969697 1.01010101 1.05050505 1.09090909 1.13131313 1.17171717\n",
            " 1.21212121 1.25252525 1.29292929 1.33333333 1.37373737 1.41414141\n",
            " 1.45454546 1.49494949 1.53535354 1.57575758 1.61616162 1.65656566\n",
            " 1.6969697  1.73737374 1.77777778 1.81818182 1.85858586 1.8989899\n",
            " 1.93939394 1.97979798 2.02020202 2.06060606 2.1010101  2.14141414\n",
            " 2.18181818 2.22222222 2.26262626 2.3030303  2.34343434 2.38383838\n",
            " 2.42424242 2.46464646 2.5050505  2.54545455 2.58585859 2.62626263\n",
            " 2.66666667 2.70707071 2.74747475 2.78787879 2.82828283 2.86868687\n",
            " 2.90909091 2.94949495 2.98989899 3.03030303 3.07070707 3.11111111\n",
            " 3.15151515 3.19191919 3.23232323 3.27272727 3.31313131 3.35353535\n",
            " 3.39393939 3.43434343 3.47474748 3.51515151 3.55555556 3.5959596\n",
            " 3.63636364 3.67676768 3.71717172 3.75757576 3.7979798  3.83838384\n",
            " 3.87878788 3.91919192 3.95959596 4.        ]\n",
            "y =  [ 4.38754501  2.6796499   2.96848981  3.25406475  3.53637472  3.81541972\n",
            "  4.09119974  2.36371479  3.83296487  4.09894997  4.3616701   4.62112526\n",
            "  4.87731544  3.13024065  3.37990089  3.62629616  3.86942645  5.30929177\n",
            "  5.54589212  3.77922749  4.00929789  4.23610332  4.45964378  4.67991926\n",
            "  2.89692977  3.1106753   4.52115587  4.72837146  4.93232208  5.13300772\n",
            "  3.33042839  3.52458409  3.71547481  3.90310057  4.08746135  5.46855715\n",
            "  3.64638799  3.82095385  3.99225473  4.16029065  4.32506159  4.48656756\n",
            "  2.64480856  2.79978458  4.15149563  4.29994171  4.44512281  2.58703894\n",
            "  2.7256901   2.86107628  2.99319749  3.12205374  3.247645    2.56997129\n",
            "  2.68903261  2.80482896  2.91736034  3.02662674  3.13262817  1.23536462\n",
            "  1.3348361   1.43104261  2.72398415  2.81366071  2.9000723   0.98321892\n",
            "  1.06310057  1.13971724  1.21306894  1.28315566 -0.65002258  0.6135342\n",
            "  0.673826    0.73085284  0.7846147   0.83511159 -1.1176565  -1.07368956\n",
            " -1.03298759 -0.99555059  0.23862143  0.26952848 -1.70282944 -1.67845234\n",
            " -1.6573402  -1.63949305 -1.62491086 -1.61359365 -3.60554141 -2.40075414\n",
            " -2.39923185 -2.40097453 -2.40598218 -4.4142548  -4.4257924  -4.44059497\n",
            " -4.45866252 -4.47999504 -3.30459253 -5.33245499]\n",
            "m =  100\n",
            "n =  100\n"
          ]
        },
        {
          "output_type": "display_data",
          "data": {
            "text/plain": [
              "<Figure size 600x600 with 1 Axes>"
            ],
            "image/png": "[encoded data removed]"
          },
          "metadata": {}
        }
      ]
    },
    {
      "cell_type": "code",
      "source": [
        "X_0 = np.ones((m, 1)) #define X0 as column vector with value 1\n",
        "X_0[:100]"
      ],
      "metadata": {
        "id": "Bxt7Ah1XtXuG"
      },
      "execution_count": null,
      "outputs": []
    },
    {
      "cell_type": "code",
      "source": [
        "X_1 = X.reshape(m, 1) #Insert X1 value in column 2 to make the X matrix\n",
        "X_1[:100]"
      ],
      "metadata": {
        "id": "oOuAqk2Ctbxp"
      },
      "execution_count": null,
      "outputs": []
    },
    {
      "cell_type": "code",
      "source": [
        "# Build X as a 2D array matrix with X0 and X1\n",
        "X = np.hstack((X_0, X_1))\n",
        "X[:100]"
      ],
      "metadata": {
        "id": "ctdMsSnkuAU_"
      },
      "execution_count": null,
      "outputs": []
    },
    {
      "cell_type": "code",
      "source": [
        "theta = np.zeros(2)\n",
        "theta"
      ],
      "metadata": {
        "colab": {
          "base_uri": "https://localhost:8080/"
        },
        "id": "bUyofyOcum3q",
        "outputId": "e0e7ba32-24fb-438a-b6ab-7a827ecc0c1b"
      },
      "execution_count": null,
      "outputs": [
        {
          "output_type": "execute_result",
          "data": {
            "text/plain": [
              "array([0., 0.])"
            ]
          },
          "metadata": {},
          "execution_count": 41
        }
      ]
    },
    {
      "cell_type": "code",
      "source": [
        "def compute_cost(X, y, theta):\n",
        "    predictions = X.dot(theta) #hypothesis function\n",
        "    errors = np.subtract(predictions, y)\n",
        "    sqrErrors = np.square(errors)\n",
        "    J = 1 / (2 * m) * np.sum(sqrErrors)\n",
        "    return J"
      ],
      "metadata": {
        "id": "e942Br2mu67a"
      },
      "execution_count": null,
      "outputs": []
    },
    {
      "cell_type": "code",
      "source": [
        "# calculate the cost for theta values\n",
        "cost = compute_cost(X, y, theta)\n",
        "print('The cost for given values of theta_0 and theta_1 =', cost)"
      ],
      "metadata": {
        "colab": {
          "base_uri": "https://localhost:8080/"
        },
        "id": "KNUEB7gKvL3H",
        "outputId": "f1d715d5-c41e-453c-c43e-12a3c9f56586"
      },
      "execution_count": null,
      "outputs": [
        {
          "output_type": "stream",
          "name": "stdout",
          "text": [
            "The cost for given values of theta_0 and theta_1 = 5.524438459196242\n"
          ]
        }
      ]
    },
    {
      "cell_type": "code",
      "source": [
        "def gradient_descent(X, y, theta, alpha, iterations):\n",
        "\n",
        "    m = len(y)  # Number of training examples\n",
        "    cost_history = np.zeros(iterations)\n",
        "\n",
        "    for i in range(iterations):\n",
        "        predictions = X.dot(theta)\n",
        "        errors = np.subtract(predictions, y)\n",
        "        sum_delta = (alpha / m) * X.transpose().dot(errors)\n",
        "        theta -= sum_delta\n",
        "        cost_history[i] = compute_cost(X, y, theta)\n",
        "\n",
        "    return theta, cost_history"
      ],
      "metadata": {
        "id": "obcPa5kQxQ1T"
      },
      "execution_count": null,
      "outputs": []
    },
    {
      "cell_type": "code",
      "source": [
        "theta = [0., 0.]\n",
        "iterations = 1500\n",
        "alpha = 0.05"
      ],
      "metadata": {
        "id": "XdfMFxhsxggf"
      },
      "execution_count": null,
      "outputs": []
    },
    {
      "cell_type": "code",
      "source": [
        "theta, cost_history = gradient_descent(X, y, theta, alpha, iterations)\n",
        "print('Final value of theta =', theta)\n",
        "print('cost_history =', cost_history)"
      ],
      "metadata": {
        "colab": {
          "base_uri": "https://localhost:8080/"
        },
        "id": "JB3LWJFwxxH0",
        "outputId": "24fac17d-b9fb-4102-a80e-081c6b37a090"
      },
      "execution_count": null,
      "outputs": [
        {
          "output_type": "stream",
          "name": "stdout",
          "text": [
            "Final value of theta = [ 5.9279486  -2.03833651]\n",
            "cost_history = [5.32852962 5.18676104 5.07204859 ... 0.98499308 0.98499308 0.98499308]\n"
          ]
        }
      ]
    },
    {
      "cell_type": "code",
      "source": [
        "# Scatter plot for the training data\n",
        "plt.scatter(X[:, 1], y, color='red', marker='+', label='Training Data')\n",
        "\n",
        "# Line plot for the linear regression model\n",
        "plt.plot(X[:, 1], X.dot(theta), color='green', label='Linear Regression')\n",
        "\n",
        "# Plot customizations\n",
        "plt.rcParams[\"figure.figsize\"] = (10, 6)\n",
        "plt.grid(True)\n",
        "plt.xlabel('X1')\n",
        "plt.ylabel('Y')\n",
        "plt.title('Linear Regression for X1 variable')\n",
        "plt.legend()\n",
        "\n",
        "# Show the plot\n",
        "plt.show()"
      ],
      "metadata": {
        "colab": {
          "base_uri": "https://localhost:8080/",
          "height": 564
        },
        "id": "9ro3JoSZytHF",
        "outputId": "40c83fa8-8650-49c9-93e5-3ac69fd0cc87"
      },
      "execution_count": null,
      "outputs": [
        {
          "output_type": "display_data",
          "data": {
            "text/plain": [
              "<Figure size 1000x600 with 1 Axes>"
            ],
            "image/png": "[encoded data removed]"
          },
          "metadata": {}
        }
      ]
    },
    {
      "cell_type": "code",
      "source": [
        "# plot cost vs iteration\n",
        "plt.plot(range(1, iterations + 1), cost_history, color='blue')\n",
        "plt.rcParams[\"figure.figsize\"] = (10, 6)\n",
        "plt.grid(True)\n",
        "\n",
        "plt.xlabel('Number of iterations')\n",
        "plt.ylabel('Cost (J)')\n",
        "plt.title('Convergence of gradient descent')\n",
        "\n",
        "plt.show()"
      ],
      "metadata": {
        "colab": {
          "base_uri": "https://localhost:8080/",
          "height": 564
        },
        "id": "ZMGcAL0ECuCw",
        "outputId": "25ba68ce-0acc-4d7b-f13f-d4cca871d797"
      },
      "execution_count": null,
      "outputs": [
        {
          "output_type": "display_data",
          "data": {
            "text/plain": [
              "<Figure size 1000x600 with 1 Axes>"
            ],
            "image/png": "[encoded data removed]"
          },
          "metadata": {}
        }
      ]
    }
  ]
}
